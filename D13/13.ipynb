{
 "cells": [
  {
   "cell_type": "code",
   "execution_count": 1,
   "id": "1768730a",
   "metadata": {},
   "outputs": [],
   "source": [
    "import numpy as np"
   ]
  },
  {
   "cell_type": "markdown",
   "id": "76c68a63-4bf8-4ed0-a675-372a44d60d5f",
   "metadata": {
    "tags": []
   },
   "source": [
    "# Get inputs"
   ]
  },
  {
   "cell_type": "code",
   "execution_count": 2,
   "id": "2c317d4c-42ed-4d58-b1ed-c9be5cca037d",
   "metadata": {},
   "outputs": [],
   "source": [
    "#with open(\"test_input.txt\") as f:\n",
    "with open(\"13.in\") as f:\n",
    "    inp = f.readlines()\n",
    "    inp = [line.rstrip() for line in inp]"
   ]
  },
  {
   "cell_type": "code",
   "execution_count": 3,
   "id": "c0c15c42",
   "metadata": {},
   "outputs": [],
   "source": [
    "coords = [x.split(\",\") for x in inp]\n",
    "coords = [[int(x) for x in y] for y in coords if len(y) == 2]\n",
    "#coords"
   ]
  },
  {
   "cell_type": "code",
   "execution_count": 4,
   "id": "f9b31101",
   "metadata": {},
   "outputs": [],
   "source": [
    "folds = [x.strip('fold along ').split('=') for x in inp[len(coords)+1:]]\n",
    "#folds"
   ]
  },
  {
   "cell_type": "code",
   "execution_count": 5,
   "id": "c98d76ae",
   "metadata": {},
   "outputs": [],
   "source": [
    "dots = np.zeros(np.array(coords).max(axis=0)+1).T\n",
    "\n",
    "for x,y in coords:\n",
    "    dots[y,x] = 1\n",
    "#dots"
   ]
  },
  {
   "cell_type": "markdown",
   "id": "9d0aa6d0-c00f-4587-894b-b85e59098257",
   "metadata": {},
   "source": [
    "## Q1"
   ]
  },
  {
   "cell_type": "markdown",
   "id": "686ade79-8415-43b8-8157-a0fa817c1d01",
   "metadata": {
    "tags": []
   },
   "source": [
    "## Q2"
   ]
  },
  {
   "cell_type": "code",
   "execution_count": 7,
   "id": "719bd3e4",
   "metadata": {},
   "outputs": [
    {
     "name": "stdout",
     "output_type": "stream",
     "text": [
      "Part 1: 602\n",
      "Part 2:\n",
      "  █ █       █ █     █ █ █ █       █ █   █     █   █ █ █ █     █ █     █     █  \n",
      "█     █   █     █   █               █   █     █         █   █     █   █   █    \n",
      "█         █     █   █ █ █           █   █ █ █ █       █     █         █ █      \n",
      "█         █ █ █ █   █               █   █     █     █       █         █   █    \n",
      "█     █   █     █   █         █     █   █     █   █         █     █   █   █    \n",
      "  █ █     █     █   █           █ █     █     █   █ █ █ █     █ █     █     █  \n"
     ]
    }
   ],
   "source": [
    "folded = dots.copy()\n",
    "for instructions in folds:\n",
    "    if instructions[0] == 'x':\n",
    "        split = np.hsplit(folded,[int(instructions[1]),int(instructions[1])+1])\n",
    "        if split[0].shape != split[2].shape:\n",
    "            tmp = np.zeros(split[0].shape)\n",
    "            tmp[:,:split[2].shape[1]] = split[2]\n",
    "            split[2] = tmp\n",
    "        folded = split[0] + np.flip(split[2], axis=1)\n",
    "    else:\n",
    "        split = np.vsplit(folded,[int(instructions[1]),int(instructions[1])+1])\n",
    "        if split[0].shape != split[2].shape:\n",
    "            tmp = np.zeros(split[0].shape)\n",
    "            tmp[:split[2].shape[0]] = split[2]\n",
    "            split[2] = tmp\n",
    "        folded = split[0] + np.flip(split[2], axis=0)\n",
    "    try:\n",
    "        num\n",
    "    except NameError:\n",
    "        num = np.count_nonzero(folded)\n",
    "\n",
    "print(f\"Part 1: {num}\\nPart 2:\")\n",
    "\n",
    "folded[folded > 0] = 1\n",
    "folded = folded.astype(int).astype(str)\n",
    "folded[folded == '1'] = '█'\n",
    "folded[folded == '0'] = ' '\n",
    "for x in folded:\n",
    "     print(' '.join(x))"
   ]
  },
  {
   "cell_type": "code",
   "execution_count": null,
   "id": "643a286a",
   "metadata": {},
   "outputs": [],
   "source": []
  }
 ],
 "metadata": {
  "kernelspec": {
   "display_name": "Python 3 (ipykernel)",
   "language": "python",
   "name": "python3"
  },
  "language_info": {
   "codemirror_mode": {
    "name": "ipython",
    "version": 3
   },
   "file_extension": ".py",
   "mimetype": "text/x-python",
   "name": "python",
   "nbconvert_exporter": "python",
   "pygments_lexer": "ipython3",
   "version": "3.8.11"
  }
 },
 "nbformat": 4,
 "nbformat_minor": 5
}
